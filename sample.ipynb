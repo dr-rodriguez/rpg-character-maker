{
 "cells": [
  {
   "cell_type": "markdown",
   "metadata": {},
   "source": [
    "# Ollama RPG Character Maker\n",
    "\n",
    "An example notebook walking through generating a random character."
   ]
  },
  {
   "cell_type": "code",
   "execution_count": 28,
   "metadata": {},
   "outputs": [],
   "source": [
    "import random\n",
    "from character import Character, CLASSES, SPECIES"
   ]
  },
  {
   "cell_type": "markdown",
   "metadata": {},
   "source": [
    "You can instatiate the `Character` class with whichever model and any initial information you want. In this example, we will consider a Halfling Bard."
   ]
  },
  {
   "cell_type": "code",
   "execution_count": 29,
   "metadata": {},
   "outputs": [],
   "source": [
    "c = Character(species=\"Halfling\", class_name=\"Bard\", model=\"llama3.2:3b-8k\")"
   ]
  },
  {
   "cell_type": "markdown",
   "metadata": {},
   "source": [
    "Let's generate some random names to pick from."
   ]
  },
  {
   "cell_type": "code",
   "execution_count": 30,
   "metadata": {},
   "outputs": [
    {
     "name": "stdout",
     "output_type": "stream",
     "text": [
      "\n",
      "Generating random names...\n",
      "*\n",
      "Pip Bramblebury\n",
      "*\n",
      "Lysander Swiftfoot\n",
      "*\n",
      "Finnley Greenleaf\n",
      "*\n",
      "Briar Rosewhisper\n",
      "*\n",
      "Rufus Thistlethorn\n",
      "['', '', '', '', '']\n"
     ]
    }
   ],
   "source": [
    "names = c.generate_random_names(num=5)\n",
    "print(names)"
   ]
  },
  {
   "cell_type": "markdown",
   "metadata": {},
   "source": [
    "Let's pick one and move to generate a character concept. When running by default, most of these calls will generate 5 responses and use the existing character information that you have stored. If you can't decide, you can always use `random.choice()` to pick one from the list."
   ]
  },
  {
   "cell_type": "code",
   "execution_count": 31,
   "metadata": {},
   "outputs": [
    {
     "name": "stdout",
     "output_type": "stream",
     "text": [
      "\n",
      "Generating random concepts...\n",
      "* A charming troublemaker who always sings sweet serenades to get out of sticky situations\n",
      "* A flamboyant virtuoso who uses their artistic talents to confuse and disorient enemies\n",
      "* A charismatic wild card who makes unpredictable choices that often benefit their friends\n",
      "* A quick-witted prankster who weaves elaborate jokes into the fabric of reality\n",
      "* A melancholy troubadour who finds solace in writing songs about their favorite snacks\n"
     ]
    }
   ],
   "source": [
    "# Store the name of the character\n",
    "c.name = random.choice(names)\n",
    "\n",
    "concepts = c.generate_random_concepts(extra=\"Include a funny twist for each.\")"
   ]
  },
  {
   "cell_type": "markdown",
   "metadata": {},
   "source": [
    "Sometimes it can take a few tries to get a suitable set of concepts. When storing them, feel free to mix and match as you wish, or write your own. "
   ]
  },
  {
   "cell_type": "markdown",
   "metadata": {},
   "source": [
    "Let's use `get_character()` to see a summary of our character thus far. We still have to generate more information, but this can be used to check the progress we are making."
   ]
  },
  {
   "cell_type": "code",
   "execution_count": 32,
   "metadata": {},
   "outputs": [
    {
     "name": "stdout",
     "output_type": "stream",
     "text": [
      "\n",
      "\n",
      "Character Summary:\n",
      "\n",
      "Name: \n",
      "Species: Halfling\n",
      "Class: Bard\n",
      "\n"
     ]
    }
   ],
   "source": [
    "print(\"\\n\\nCharacter Summary:\\n\")\n",
    "print(c.get_character())"
   ]
  },
  {
   "cell_type": "markdown",
   "metadata": {},
   "source": [
    "Next, let's generate some character flaws, pick one, and then some personality traits. For simplicity, I'll just take all of the personality traits and a random flaw, but ideally you would pick and choose or edit them to suit your character."
   ]
  },
  {
   "cell_type": "code",
   "execution_count": 33,
   "metadata": {},
   "outputs": [
    {
     "name": "stdout",
     "output_type": "stream",
     "text": [
      "\n",
      "Generating random personality traits...\n",
      "* Mischievous: always looking for ways to play pranks and cause trouble\n",
      "* Charming: able to talk their way out of almost any situation with a smile and a song\n",
      "* Cunning: quick-witted and clever, often coming up with creative excuses on the fly\n",
      "* Flamboyant: loves to dress in colorful, extravagant clothing that makes a statement\n",
      "* Irresistible: has a way of making people want to do favors for them, even when it's not in their best interest\n",
      "\n",
      "Generating random flaws...\n",
      "* *Lack of Self-Control*: Has trouble sticking to plans, often getting distracted by shiny objects or new ideas and forgetting about important tasks.\n",
      "* *Excessive Vanity*: Spends an inordinate amount of time primping and preening, making it difficult to leave the room without attention drawn to themselves.\n",
      "* *Short-Tempered*: Has a quick fuse when things don't go their way, leading to outbursts that can put themselves and others in danger.\n",
      "* *Overconfidence*: Tends to underestimate risks or opponents, often relying too heavily on charm and wit rather than actual skill.\n",
      "* *Dishonesty for Entertainment*: Occasionally tells outright lies or exaggerates the truth for comedic effect or to get out of a jam, sometimes straining relationships with those they care about.\n"
     ]
    }
   ],
   "source": [
    "# Store the concept of the character\n",
    "c.concept = concepts[0]\n",
    "\n",
    "# Generate some traits for the character\n",
    "traits = c.generate_personality_traits()\n",
    "c.personality_traits = traits\n",
    "\n",
    "# Generate some flaws for the character\n",
    "flaws = c.generate_random_flaws()\n",
    "c.flaw = random.choice(flaws)"
   ]
  },
  {
   "cell_type": "markdown",
   "metadata": {},
   "source": [
    "Next, up is to generate some ideas for conflicts. This is what spurred our character to join the adventuring life. With one chosen, we can wrap up with a short backstory."
   ]
  },
  {
   "cell_type": "code",
   "execution_count": 34,
   "metadata": {},
   "outputs": [
    {
     "name": "stdout",
     "output_type": "stream",
     "text": [
      "\n",
      "Generating a conflict...\n",
      "The charming troublemaker, known for their sweet serenades and quick wit, has recently found themselves in a jam after being forced to \"borrow\" from the local lord's treasury to pay off a series of debts they'd accumulated through one too many ill-advised pranks on the noble class. Now, with their extravagant clothes and charming smile at risk of being confiscated by the authorities, they must use all their cunning and charm to talk their way out of a precarious situation with the lord himself.\n",
      "\n",
      "Generating a backstory...\n",
      "Born into a family of traveling performers, the halfling bard grew up surrounded by music, laughter, and mischief. From a young age, they honed their charm and wit to beguile audiences and extract free drinks from unsuspecting patrons. As they grew older, their natural charisma and flair for drama led them to adopt the persona of \"Lysander Larkspur,\" a charming troublemaker with a silver tongue and a penchant for getting out of tight spots. For years, Lysander's performances and pranks brought them wealth, fame, and a loyal following – but also a string of debts they'd accumulated by borrowing from nobles and townsfolk to fund their extravagant lifestyle.\n",
      "\n",
      "However, when the halfling's latest performance ended in disaster (literally: they inadvertently set the lord's banquet hall ablaze while attempting a particularly elaborate song-and-dance routine), Lysander found themselves facing the music – literally. The local lord, who'd been a long-time patron and friend, demanded repayment of the debts they owed him, threatening to revoke their performer's license and confiscate their extravagant wardrobe. With their charm and wit now under siege, Lysander must use every trick in the book to talk their way out of this precarious situation – but can their overconfidence prove to be a fatal flaw?\n"
     ]
    }
   ],
   "source": [
    "conflict = c.generate_conflict()\n",
    "c.conflict = conflict\n",
    "\n",
    "backstory = c.generate_backstory()\n",
    "c.backstory = backstory"
   ]
  },
  {
   "cell_type": "markdown",
   "metadata": {},
   "source": [
    "And now, let's see our full character:"
   ]
  },
  {
   "cell_type": "code",
   "execution_count": 35,
   "metadata": {},
   "outputs": [
    {
     "name": "stdout",
     "output_type": "stream",
     "text": [
      "\n",
      "\n",
      "Character Summary:\n",
      "\n",
      "Name: \n",
      "Species: Halfling\n",
      "Class: Bard\n",
      "Concept: A charming troublemaker who always sings sweet serenades to get out of sticky situations\n",
      "Personality Traits:\n",
      "  * Mischievous: always looking for ways to play pranks and cause trouble\n",
      "  * Charming: able to talk their way out of almost any situation with a smile and a song\n",
      "  * Cunning: quick-witted and clever, often coming up with creative excuses on the fly\n",
      "  * Flamboyant: loves to dress in colorful, extravagant clothing that makes a statement\n",
      "  * Irresistible: has a way of making people want to do favors for them, even when it's not in their best interest\n",
      "Flaw: \n",
      "  Overconfidence: Tends to underestimate risks or opponents, often relying too heavily on charm and wit rather than actual skill.\n",
      "Conflict: \n",
      "  The charming troublemaker, known for their sweet serenades and quick wit, has recently found themselves in a jam after being forced to \"borrow\" from the local lord's treasury to pay off a series of debts they'd accumulated through one too many ill-advised pranks on the noble class. Now, with their extravagant clothes and charming smile at risk of being confiscated by the authorities, they must use all their cunning and charm to talk their way out of a precarious situation with the lord himself.\n",
      "Backstory: \n",
      "  Born into a family of traveling performers, the halfling bard grew up surrounded by music, laughter, and mischief. From a young age, they honed their charm and wit to beguile audiences and extract free drinks from unsuspecting patrons. As they grew older, their natural charisma and flair for drama led them to adopt the persona of \"Lysander Larkspur,\" a charming troublemaker with a silver tongue and a penchant for getting out of tight spots. For years, Lysander's performances and pranks brought them wealth, fame, and a loyal following – but also a string of debts they'd accumulated by borrowing from nobles and townsfolk to fund their extravagant lifestyle.\n",
      "\n",
      "However, when the halfling's latest performance ended in disaster (literally: they inadvertently set the lord's banquet hall ablaze while attempting a particularly elaborate song-and-dance routine), Lysander found themselves facing the music – literally. The local lord, who'd been a long-time patron and friend, demanded repayment of the debts they owed him, threatening to revoke their performer's license and confiscate their extravagant wardrobe. With their charm and wit now under siege, Lysander must use every trick in the book to talk their way out of this precarious situation – but can their overconfidence prove to be a fatal flaw?\n",
      "\n"
     ]
    }
   ],
   "source": [
    "print(\"\\n\\nCharacter Summary:\\n\")\n",
    "print(c.get_character())"
   ]
  }
 ],
 "metadata": {
  "kernelspec": {
   "display_name": "Python 3",
   "language": "python",
   "name": "python3"
  },
  "language_info": {
   "codemirror_mode": {
    "name": "ipython",
    "version": 3
   },
   "file_extension": ".py",
   "mimetype": "text/x-python",
   "name": "python",
   "nbconvert_exporter": "python",
   "pygments_lexer": "ipython3",
   "version": "3.12.8"
  }
 },
 "nbformat": 4,
 "nbformat_minor": 2
}
