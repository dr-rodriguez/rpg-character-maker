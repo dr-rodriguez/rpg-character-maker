{
 "cells": [
  {
   "cell_type": "markdown",
   "metadata": {},
   "source": [
    "# Ollama RPG Character Maker\n",
    "\n",
    "An example notebook walking through generating a random character."
   ]
  },
  {
   "cell_type": "code",
   "execution_count": 44,
   "metadata": {},
   "outputs": [],
   "source": [
    "import random\n",
    "from character import Character, CLASSES, SPECIES"
   ]
  },
  {
   "cell_type": "markdown",
   "metadata": {},
   "source": [
    "You can instatiate the `Character` class with whichever model and any initial information you want. In this example, we will consider a Halfling Bard."
   ]
  },
  {
   "cell_type": "code",
   "execution_count": 45,
   "metadata": {},
   "outputs": [],
   "source": [
    "c = Character(species=\"Halfling\", class_name=\"Bard\", model=\"llama3.2:3b-8k\")"
   ]
  },
  {
   "cell_type": "markdown",
   "metadata": {},
   "source": [
    "Let's generate some random names to pick from."
   ]
  },
  {
   "cell_type": "code",
   "execution_count": 46,
   "metadata": {},
   "outputs": [
    {
     "name": "stdout",
     "output_type": "stream",
     "text": [
      "\n",
      "Generating random names...\n",
      "* Bramble Burrowes\n",
      "* Finnley Swiftfoot\n",
      "* Lila Leafsong\n",
      "* Piper Greenleaf\n",
      "* Rowan Mistweaver\n",
      "['Bramble Burrowes', 'Finnley Swiftfoot', 'Lila Leafsong', 'Piper Greenleaf', 'Rowan Mistweaver']\n"
     ]
    }
   ],
   "source": [
    "names = c.generate_random_names(num=5)\n",
    "print(names)"
   ]
  },
  {
   "cell_type": "markdown",
   "metadata": {},
   "source": [
    "Let's pick one and move to generate a character concept. When running by default, most of these calls will generate 5 responses and use the existing character information that you have stored. If you can't decide, you can always use `random.choice()` to pick one from the list."
   ]
  },
  {
   "cell_type": "code",
   "execution_count": 47,
   "metadata": {},
   "outputs": [
    {
     "name": "stdout",
     "output_type": "stream",
     "text": [
      "\n",
      "Generating random concepts...\n",
      "* A free-spirited (adjective) poet who always wears mismatched socks.\n",
      "* A charming (adjective) thief who has an uncanny talent for getting caught up in her own traps.\n",
      "* A charismatic (adjective) leader who keeps her enemies in stitches with clever insults.\n",
      "* A whimsical (adjective) inventor who thinks she's still a child when it comes to building working contraptions.\n",
      "* A flamboyant (adjective) diva who insists on performing solo concerts for one audience member: herself.\n"
     ]
    }
   ],
   "source": [
    "# Store the name of the character\n",
    "c.name = random.choice(names)\n",
    "\n",
    "concepts = c.generate_random_concepts(extra=\"Include a funny twist for each.\")\n",
    "\n",
    "# Store the concept of the character\n",
    "c.concept = concepts[0]"
   ]
  },
  {
   "cell_type": "markdown",
   "metadata": {},
   "source": [
    "Sometimes it can take a few tries to get a suitable set of concepts. When storing them, feel free to mix and match as you wish, or write your own. "
   ]
  },
  {
   "cell_type": "markdown",
   "metadata": {},
   "source": [
    "Let's use `get_character()` to see a summary of our character thus far. We still have to generate more information, but this can be used to check the progress we are making."
   ]
  },
  {
   "cell_type": "code",
   "execution_count": 48,
   "metadata": {},
   "outputs": [
    {
     "name": "stdout",
     "output_type": "stream",
     "text": [
      "\n",
      "\n",
      "Character Summary:\n",
      "\n",
      "Name: Lila Leafsong\n",
      "Species: Halfling\n",
      "Class: Bard\n",
      "Concept: A free-spirited (adjective) poet who always wears mismatched socks.\n",
      "\n"
     ]
    }
   ],
   "source": [
    "print(\"\\n\\nCharacter Summary:\\n\")\n",
    "print(c.get_character())"
   ]
  },
  {
   "cell_type": "markdown",
   "metadata": {},
   "source": [
    "Next, let's generate some character flaws, pick one, and then some personality traits. For simplicity, I'll just take all of the personality traits and a random flaw, but ideally you would pick and choose or edit them to suit your character."
   ]
  },
  {
   "cell_type": "code",
   "execution_count": 49,
   "metadata": {},
   "outputs": [
    {
     "name": "stdout",
     "output_type": "stream",
     "text": [
      "\n",
      "Generating random personality traits...\n",
      "* Spontaneous: Acts on impulse without thinking twice\n",
      "* Quirky: Unconventional and playful in mannerisms and behavior\n",
      "* Enthusiastic: Exudes energy and passion, especially when performing music\n",
      "* Sarcastic: Often uses humor to deflect or make a point\n",
      "* Dreamy: Lost in thought, often with a distant, wistful gaze\n",
      "\n",
      "Generating random flaws...\n",
      "* **Impulsiveness**: Lila often acts on instinct without considering the consequences, leading to reckless decisions and potentially putting herself or others in danger.\n",
      "* **Self-absorption**: Her love for her art can sometimes make her forget about the needs and feelings of those around her, causing friction with friends and allies.\n",
      "* **Disorganization**: As a free-spirited person, Lila tends to be scatterbrained and disorganized, often losing track of important items or forgetting appointments.\n",
      "* **Distrust of authority**: Her sarcastic nature can sometimes lead her to question and challenge those in positions of power, even when it's not necessary.\n",
      "* **Vulnerability to loss**: Lila's dreamy nature makes her particularly susceptible to feelings of melancholy and sadness when she experiences setbacks or disappointments, which can affect her performance and relationships.\n"
     ]
    }
   ],
   "source": [
    "# Generate some traits for the character\n",
    "traits = c.generate_personality_traits()\n",
    "c.personality_traits = traits\n",
    "\n",
    "# Generate some flaws for the character\n",
    "flaws = c.generate_random_flaws()\n",
    "c.flaw = random.choice(flaws)"
   ]
  },
  {
   "cell_type": "markdown",
   "metadata": {},
   "source": [
    "Next, up is to generate some ideas for conflicts. This is what spurred our character to join the adventuring life. With one chosen, we can wrap up with a short backstory."
   ]
  },
  {
   "cell_type": "code",
   "execution_count": 50,
   "metadata": {},
   "outputs": [
    {
     "name": "stdout",
     "output_type": "stream",
     "text": [
      "\n",
      "Generating a conflict...\n",
      "Lila Leafsong fled her village after a particularly grueling performance was marred by her emotional meltdown over the loss of her beloved muse instrument, which had been passed down through generations of halfling bards, leaving her feeling lost and disconnected from her art. Now, she travels with a ragtag troupe of performers, seeking inspiration in exotic lands while secretly searching for a way to reclaim her creative spark.\n",
      "\n",
      "Generating a backstory...\n",
      "Lila Leafsong's village, Greenhaven, was once home to a thriving community of halfling bards who passed down a sacred instrument, the Luminari Lyre, from generation to generation. For as long as anyone could remember, this family heirloom had been the muse that fueled their art and brought joy to their performances. However, after Lila's disastrous farewell concert, where she lost her beloved lyre in a fit of despair, Greenhaven's bards were left feeling empty and uninspired.\n",
      "\n",
      "Lila fled the village, seeking solace and inspiration in distant lands, but her creative spark was dwindling fast. She joined a ragtag troupe of performers, using her charisma and quick wit to mask her growing melancholy. As she travels from town to town, Lila's poetry and music become infused with the emotions of those around her, making it difficult for her to distinguish between her own art and someone else's. Her dreamy nature makes her particularly susceptible to feelings of sadness and loss, which can affect not only her performances but also her relationships with fellow troupe members, leaving Lila searching for a way to reclaim her connection to the Luminari Lyre and rekindle her creative passion.\n"
     ]
    }
   ],
   "source": [
    "conflict = c.generate_conflict()\n",
    "c.conflict = conflict\n",
    "\n",
    "backstory = c.generate_backstory()\n",
    "c.backstory = backstory"
   ]
  },
  {
   "cell_type": "markdown",
   "metadata": {},
   "source": [
    "And now, let's see our full character:"
   ]
  },
  {
   "cell_type": "code",
   "execution_count": 51,
   "metadata": {},
   "outputs": [
    {
     "name": "stdout",
     "output_type": "stream",
     "text": [
      "\n",
      "\n",
      "Character Summary:\n",
      "\n",
      "Name: Lila Leafsong\n",
      "Species: Halfling\n",
      "Class: Bard\n",
      "Concept: A free-spirited (adjective) poet who always wears mismatched socks.\n",
      "Personality Traits:\n",
      "  * Spontaneous: Acts on impulse without thinking twice\n",
      "  * Quirky: Unconventional and playful in mannerisms and behavior\n",
      "  * Enthusiastic: Exudes energy and passion, especially when performing music\n",
      "  * Sarcastic: Often uses humor to deflect or make a point\n",
      "  * Dreamy: Lost in thought, often with a distant, wistful gaze\n",
      "Flaw: \n",
      "  Vulnerability to loss: Lila's dreamy nature makes her particularly susceptible to feelings of melancholy and sadness when she experiences setbacks or disappointments, which can affect her performance and relationships.\n",
      "Conflict: \n",
      "  Lila Leafsong fled her village after a particularly grueling performance was marred by her emotional meltdown over the loss of her beloved muse instrument, which had been passed down through generations of halfling bards, leaving her feeling lost and disconnected from her art. Now, she travels with a ragtag troupe of performers, seeking inspiration in exotic lands while secretly searching for a way to reclaim her creative spark.\n",
      "Backstory: \n",
      "  Lila Leafsong's village, Greenhaven, was once home to a thriving community of halfling bards who passed down a sacred instrument, the Luminari Lyre, from generation to generation. For as long as anyone could remember, this family heirloom had been the muse that fueled their art and brought joy to their performances. However, after Lila's disastrous farewell concert, where she lost her beloved lyre in a fit of despair, Greenhaven's bards were left feeling empty and uninspired.\n",
      "\n",
      "Lila fled the village, seeking solace and inspiration in distant lands, but her creative spark was dwindling fast. She joined a ragtag troupe of performers, using her charisma and quick wit to mask her growing melancholy. As she travels from town to town, Lila's poetry and music become infused with the emotions of those around her, making it difficult for her to distinguish between her own art and someone else's. Her dreamy nature makes her particularly susceptible to feelings of sadness and loss, which can affect not only her performances but also her relationships with fellow troupe members, leaving Lila searching for a way to reclaim her connection to the Luminari Lyre and rekindle her creative passion.\n",
      "\n"
     ]
    }
   ],
   "source": [
    "print(\"\\n\\nCharacter Summary:\\n\")\n",
    "print(c.get_character())"
   ]
  }
 ],
 "metadata": {
  "kernelspec": {
   "display_name": "Python 3",
   "language": "python",
   "name": "python3"
  },
  "language_info": {
   "codemirror_mode": {
    "name": "ipython",
    "version": 3
   },
   "file_extension": ".py",
   "mimetype": "text/x-python",
   "name": "python",
   "nbconvert_exporter": "python",
   "pygments_lexer": "ipython3",
   "version": "3.12.8"
  }
 },
 "nbformat": 4,
 "nbformat_minor": 2
}
